{
 "cells": [
  {
   "cell_type": "code",
   "execution_count": 2,
   "metadata": {},
   "outputs": [],
   "source": [
    "import pandas as pd\n",
    "data = pd.read_csv('C:/Users/admin/Desktop/CASE_DATA.csv')"
   ]
  },
  {
   "cell_type": "code",
   "execution_count": 10,
   "metadata": {},
   "outputs": [],
   "source": [
    "import numpy as np\n",
    "import pandas_profiling\n",
    "import matplotlib.pyplot as plt\n",
    "import seaborn as sns"
   ]
  },
  {
   "cell_type": "code",
   "execution_count": 3,
   "metadata": {},
   "outputs": [
    {
     "data": {
      "text/html": [
       "<div>\n",
       "<style scoped>\n",
       "    .dataframe tbody tr th:only-of-type {\n",
       "        vertical-align: middle;\n",
       "    }\n",
       "\n",
       "    .dataframe tbody tr th {\n",
       "        vertical-align: top;\n",
       "    }\n",
       "\n",
       "    .dataframe thead th {\n",
       "        text-align: right;\n",
       "    }\n",
       "</style>\n",
       "<table border=\"1\" class=\"dataframe\">\n",
       "  <thead>\n",
       "    <tr style=\"text-align: right;\">\n",
       "      <th></th>\n",
       "      <th>Customer_No</th>\n",
       "      <th>DEP_IND</th>\n",
       "      <th>CC_IND</th>\n",
       "      <th>MTG_IND</th>\n",
       "      <th>LOC_IND</th>\n",
       "      <th>DEP_PROF</th>\n",
       "      <th>CC_PROF</th>\n",
       "      <th>MTG_PROF</th>\n",
       "      <th>LOC_PROF</th>\n",
       "      <th>MOBILE_ACTIVE</th>\n",
       "      <th>...</th>\n",
       "      <th>CUST_ENGAGEMENT</th>\n",
       "      <th>CUST_AFFLUENCE</th>\n",
       "      <th>CLV_CREDITCARD</th>\n",
       "      <th>CLV_MORTGAGE</th>\n",
       "      <th>CLV_LOC</th>\n",
       "      <th>ACQ_SCORE</th>\n",
       "      <th>EMAILABLE</th>\n",
       "      <th>MAILABLE</th>\n",
       "      <th>MILLENNIAL</th>\n",
       "      <th>Unnamed: 27</th>\n",
       "    </tr>\n",
       "  </thead>\n",
       "  <tbody>\n",
       "    <tr>\n",
       "      <th>count</th>\n",
       "      <td>10000.00000</td>\n",
       "      <td>10000.000000</td>\n",
       "      <td>10000.000000</td>\n",
       "      <td>10000.000000</td>\n",
       "      <td>10000.000000</td>\n",
       "      <td>10000.000000</td>\n",
       "      <td>10000.000000</td>\n",
       "      <td>10000.00000</td>\n",
       "      <td>10000.000000</td>\n",
       "      <td>10000.000000</td>\n",
       "      <td>...</td>\n",
       "      <td>10000.000000</td>\n",
       "      <td>10000.000000</td>\n",
       "      <td>10000.000000</td>\n",
       "      <td>10000.000000</td>\n",
       "      <td>10000.000000</td>\n",
       "      <td>10000.000000</td>\n",
       "      <td>10000.000000</td>\n",
       "      <td>10000.000000</td>\n",
       "      <td>10000.000000</td>\n",
       "      <td>0.0</td>\n",
       "    </tr>\n",
       "    <tr>\n",
       "      <th>mean</th>\n",
       "      <td>5000.50000</td>\n",
       "      <td>0.947500</td>\n",
       "      <td>0.798100</td>\n",
       "      <td>0.618800</td>\n",
       "      <td>0.843600</td>\n",
       "      <td>369.204100</td>\n",
       "      <td>715.240400</td>\n",
       "      <td>818.32730</td>\n",
       "      <td>2305.019770</td>\n",
       "      <td>0.824700</td>\n",
       "      <td>...</td>\n",
       "      <td>2.715500</td>\n",
       "      <td>3.608100</td>\n",
       "      <td>2393.285024</td>\n",
       "      <td>19041.615847</td>\n",
       "      <td>1239.196833</td>\n",
       "      <td>0.171630</td>\n",
       "      <td>0.824700</td>\n",
       "      <td>0.547100</td>\n",
       "      <td>0.363900</td>\n",
       "      <td>NaN</td>\n",
       "    </tr>\n",
       "    <tr>\n",
       "      <th>std</th>\n",
       "      <td>2886.89568</td>\n",
       "      <td>0.223044</td>\n",
       "      <td>0.401438</td>\n",
       "      <td>0.485706</td>\n",
       "      <td>0.363252</td>\n",
       "      <td>1786.332252</td>\n",
       "      <td>1601.125043</td>\n",
       "      <td>2807.36832</td>\n",
       "      <td>5387.527409</td>\n",
       "      <td>0.380243</td>\n",
       "      <td>...</td>\n",
       "      <td>0.535713</td>\n",
       "      <td>0.642772</td>\n",
       "      <td>3134.217837</td>\n",
       "      <td>27834.801446</td>\n",
       "      <td>2834.110284</td>\n",
       "      <td>0.019488</td>\n",
       "      <td>0.380243</td>\n",
       "      <td>0.497802</td>\n",
       "      <td>0.481144</td>\n",
       "      <td>NaN</td>\n",
       "    </tr>\n",
       "    <tr>\n",
       "      <th>min</th>\n",
       "      <td>1.00000</td>\n",
       "      <td>0.000000</td>\n",
       "      <td>0.000000</td>\n",
       "      <td>0.000000</td>\n",
       "      <td>0.000000</td>\n",
       "      <td>-1927.000000</td>\n",
       "      <td>-3271.000000</td>\n",
       "      <td>-16519.00000</td>\n",
       "      <td>-47358.450000</td>\n",
       "      <td>0.000000</td>\n",
       "      <td>...</td>\n",
       "      <td>1.000000</td>\n",
       "      <td>1.000000</td>\n",
       "      <td>-463.905000</td>\n",
       "      <td>0.000000</td>\n",
       "      <td>-786.380000</td>\n",
       "      <td>0.120000</td>\n",
       "      <td>0.000000</td>\n",
       "      <td>0.000000</td>\n",
       "      <td>0.000000</td>\n",
       "      <td>NaN</td>\n",
       "    </tr>\n",
       "    <tr>\n",
       "      <th>25%</th>\n",
       "      <td>2500.75000</td>\n",
       "      <td>1.000000</td>\n",
       "      <td>1.000000</td>\n",
       "      <td>0.000000</td>\n",
       "      <td>1.000000</td>\n",
       "      <td>-122.000000</td>\n",
       "      <td>0.000000</td>\n",
       "      <td>0.00000</td>\n",
       "      <td>0.000000</td>\n",
       "      <td>1.000000</td>\n",
       "      <td>...</td>\n",
       "      <td>2.000000</td>\n",
       "      <td>3.000000</td>\n",
       "      <td>52.360000</td>\n",
       "      <td>0.000000</td>\n",
       "      <td>-112.340000</td>\n",
       "      <td>0.160000</td>\n",
       "      <td>1.000000</td>\n",
       "      <td>0.000000</td>\n",
       "      <td>0.000000</td>\n",
       "      <td>NaN</td>\n",
       "    </tr>\n",
       "    <tr>\n",
       "      <th>50%</th>\n",
       "      <td>5000.50000</td>\n",
       "      <td>1.000000</td>\n",
       "      <td>1.000000</td>\n",
       "      <td>1.000000</td>\n",
       "      <td>1.000000</td>\n",
       "      <td>-2.000000</td>\n",
       "      <td>136.500000</td>\n",
       "      <td>0.00000</td>\n",
       "      <td>588.525000</td>\n",
       "      <td>1.000000</td>\n",
       "      <td>...</td>\n",
       "      <td>3.000000</td>\n",
       "      <td>4.000000</td>\n",
       "      <td>938.950000</td>\n",
       "      <td>9179.030000</td>\n",
       "      <td>0.000000</td>\n",
       "      <td>0.170000</td>\n",
       "      <td>1.000000</td>\n",
       "      <td>1.000000</td>\n",
       "      <td>0.000000</td>\n",
       "      <td>NaN</td>\n",
       "    </tr>\n",
       "    <tr>\n",
       "      <th>75%</th>\n",
       "      <td>7500.25000</td>\n",
       "      <td>1.000000</td>\n",
       "      <td>1.000000</td>\n",
       "      <td>1.000000</td>\n",
       "      <td>1.000000</td>\n",
       "      <td>163.000000</td>\n",
       "      <td>863.250000</td>\n",
       "      <td>1041.00000</td>\n",
       "      <td>2384.025000</td>\n",
       "      <td>1.000000</td>\n",
       "      <td>...</td>\n",
       "      <td>3.000000</td>\n",
       "      <td>4.000000</td>\n",
       "      <td>3749.568750</td>\n",
       "      <td>26618.216250</td>\n",
       "      <td>1228.818750</td>\n",
       "      <td>0.180000</td>\n",
       "      <td>1.000000</td>\n",
       "      <td>1.000000</td>\n",
       "      <td>1.000000</td>\n",
       "      <td>NaN</td>\n",
       "    </tr>\n",
       "    <tr>\n",
       "      <th>max</th>\n",
       "      <td>10000.00000</td>\n",
       "      <td>1.000000</td>\n",
       "      <td>1.000000</td>\n",
       "      <td>1.000000</td>\n",
       "      <td>1.000000</td>\n",
       "      <td>50273.000000</td>\n",
       "      <td>39270.000000</td>\n",
       "      <td>45279.00000</td>\n",
       "      <td>82108.500000</td>\n",
       "      <td>1.000000</td>\n",
       "      <td>...</td>\n",
       "      <td>4.000000</td>\n",
       "      <td>4.000000</td>\n",
       "      <td>26126.630000</td>\n",
       "      <td>376946.280000</td>\n",
       "      <td>34070.215000</td>\n",
       "      <td>0.290000</td>\n",
       "      <td>1.000000</td>\n",
       "      <td>1.000000</td>\n",
       "      <td>1.000000</td>\n",
       "      <td>NaN</td>\n",
       "    </tr>\n",
       "  </tbody>\n",
       "</table>\n",
       "<p>8 rows × 22 columns</p>\n",
       "</div>"
      ],
      "text/plain": [
       "       Customer_No       DEP_IND        CC_IND       MTG_IND       LOC_IND  \\\n",
       "count  10000.00000  10000.000000  10000.000000  10000.000000  10000.000000   \n",
       "mean    5000.50000      0.947500      0.798100      0.618800      0.843600   \n",
       "std     2886.89568      0.223044      0.401438      0.485706      0.363252   \n",
       "min        1.00000      0.000000      0.000000      0.000000      0.000000   \n",
       "25%     2500.75000      1.000000      1.000000      0.000000      1.000000   \n",
       "50%     5000.50000      1.000000      1.000000      1.000000      1.000000   \n",
       "75%     7500.25000      1.000000      1.000000      1.000000      1.000000   \n",
       "max    10000.00000      1.000000      1.000000      1.000000      1.000000   \n",
       "\n",
       "           DEP_PROF       CC_PROF     MTG_PROF      LOC_PROF  MOBILE_ACTIVE  \\\n",
       "count  10000.000000  10000.000000  10000.00000  10000.000000   10000.000000   \n",
       "mean     369.204100    715.240400    818.32730   2305.019770       0.824700   \n",
       "std     1786.332252   1601.125043   2807.36832   5387.527409       0.380243   \n",
       "min    -1927.000000  -3271.000000 -16519.00000 -47358.450000       0.000000   \n",
       "25%     -122.000000      0.000000      0.00000      0.000000       1.000000   \n",
       "50%       -2.000000    136.500000      0.00000    588.525000       1.000000   \n",
       "75%      163.000000    863.250000   1041.00000   2384.025000       1.000000   \n",
       "max    50273.000000  39270.000000  45279.00000  82108.500000       1.000000   \n",
       "\n",
       "       ...  CUST_ENGAGEMENT  CUST_AFFLUENCE  CLV_CREDITCARD   CLV_MORTGAGE  \\\n",
       "count  ...     10000.000000    10000.000000    10000.000000   10000.000000   \n",
       "mean   ...         2.715500        3.608100     2393.285024   19041.615847   \n",
       "std    ...         0.535713        0.642772     3134.217837   27834.801446   \n",
       "min    ...         1.000000        1.000000     -463.905000       0.000000   \n",
       "25%    ...         2.000000        3.000000       52.360000       0.000000   \n",
       "50%    ...         3.000000        4.000000      938.950000    9179.030000   \n",
       "75%    ...         3.000000        4.000000     3749.568750   26618.216250   \n",
       "max    ...         4.000000        4.000000    26126.630000  376946.280000   \n",
       "\n",
       "            CLV_LOC     ACQ_SCORE     EMAILABLE      MAILABLE    MILLENNIAL  \\\n",
       "count  10000.000000  10000.000000  10000.000000  10000.000000  10000.000000   \n",
       "mean    1239.196833      0.171630      0.824700      0.547100      0.363900   \n",
       "std     2834.110284      0.019488      0.380243      0.497802      0.481144   \n",
       "min     -786.380000      0.120000      0.000000      0.000000      0.000000   \n",
       "25%     -112.340000      0.160000      1.000000      0.000000      0.000000   \n",
       "50%        0.000000      0.170000      1.000000      1.000000      0.000000   \n",
       "75%     1228.818750      0.180000      1.000000      1.000000      1.000000   \n",
       "max    34070.215000      0.290000      1.000000      1.000000      1.000000   \n",
       "\n",
       "       Unnamed: 27  \n",
       "count          0.0  \n",
       "mean           NaN  \n",
       "std            NaN  \n",
       "min            NaN  \n",
       "25%            NaN  \n",
       "50%            NaN  \n",
       "75%            NaN  \n",
       "max            NaN  \n",
       "\n",
       "[8 rows x 22 columns]"
      ]
     },
     "execution_count": 3,
     "metadata": {},
     "output_type": "execute_result"
    }
   ],
   "source": [
    "data.describe()"
   ]
  },
  {
   "cell_type": "code",
   "execution_count": 5,
   "metadata": {},
   "outputs": [],
   "source": [
    "data1 = data[data['MILLENNIAL']==1]"
   ]
  },
  {
   "cell_type": "code",
   "execution_count": 6,
   "metadata": {},
   "outputs": [
    {
     "data": {
      "text/html": [
       "<div>\n",
       "<style scoped>\n",
       "    .dataframe tbody tr th:only-of-type {\n",
       "        vertical-align: middle;\n",
       "    }\n",
       "\n",
       "    .dataframe tbody tr th {\n",
       "        vertical-align: top;\n",
       "    }\n",
       "\n",
       "    .dataframe thead th {\n",
       "        text-align: right;\n",
       "    }\n",
       "</style>\n",
       "<table border=\"1\" class=\"dataframe\">\n",
       "  <thead>\n",
       "    <tr style=\"text-align: right;\">\n",
       "      <th></th>\n",
       "      <th>Customer_No</th>\n",
       "      <th>DEP_IND</th>\n",
       "      <th>CC_IND</th>\n",
       "      <th>MTG_IND</th>\n",
       "      <th>LOC_IND</th>\n",
       "      <th>DEP_PROF</th>\n",
       "      <th>CC_PROF</th>\n",
       "      <th>MTG_PROF</th>\n",
       "      <th>LOC_PROF</th>\n",
       "      <th>MOBILE_ACTIVE</th>\n",
       "      <th>...</th>\n",
       "      <th>CUST_ENGAGEMENT</th>\n",
       "      <th>CUST_AFFLUENCE</th>\n",
       "      <th>CLV_CREDITCARD</th>\n",
       "      <th>CLV_MORTGAGE</th>\n",
       "      <th>CLV_LOC</th>\n",
       "      <th>ACQ_SCORE</th>\n",
       "      <th>EMAILABLE</th>\n",
       "      <th>MAILABLE</th>\n",
       "      <th>MILLENNIAL</th>\n",
       "      <th>Unnamed: 27</th>\n",
       "    </tr>\n",
       "  </thead>\n",
       "  <tbody>\n",
       "    <tr>\n",
       "      <th>count</th>\n",
       "      <td>3639.000000</td>\n",
       "      <td>3639.000000</td>\n",
       "      <td>3639.000000</td>\n",
       "      <td>3639.000000</td>\n",
       "      <td>3639.000000</td>\n",
       "      <td>3639.000000</td>\n",
       "      <td>3639.000000</td>\n",
       "      <td>3639.000000</td>\n",
       "      <td>3639.000000</td>\n",
       "      <td>3639.000000</td>\n",
       "      <td>...</td>\n",
       "      <td>3639.000000</td>\n",
       "      <td>3639.000000</td>\n",
       "      <td>3639.000000</td>\n",
       "      <td>3639.000000</td>\n",
       "      <td>3639.000000</td>\n",
       "      <td>3639.000000</td>\n",
       "      <td>3639.000000</td>\n",
       "      <td>3639.000000</td>\n",
       "      <td>3639.0</td>\n",
       "      <td>0.0</td>\n",
       "    </tr>\n",
       "    <tr>\n",
       "      <th>mean</th>\n",
       "      <td>6041.305029</td>\n",
       "      <td>0.945864</td>\n",
       "      <td>0.839516</td>\n",
       "      <td>0.774114</td>\n",
       "      <td>0.882385</td>\n",
       "      <td>98.183017</td>\n",
       "      <td>741.637538</td>\n",
       "      <td>989.445727</td>\n",
       "      <td>1722.685202</td>\n",
       "      <td>0.894751</td>\n",
       "      <td>...</td>\n",
       "      <td>2.804891</td>\n",
       "      <td>3.665567</td>\n",
       "      <td>2741.089999</td>\n",
       "      <td>23270.073042</td>\n",
       "      <td>755.540157</td>\n",
       "      <td>0.176559</td>\n",
       "      <td>0.894751</td>\n",
       "      <td>0.554823</td>\n",
       "      <td>1.0</td>\n",
       "      <td>NaN</td>\n",
       "    </tr>\n",
       "    <tr>\n",
       "      <th>std</th>\n",
       "      <td>2651.802092</td>\n",
       "      <td>0.226316</td>\n",
       "      <td>0.367104</td>\n",
       "      <td>0.418222</td>\n",
       "      <td>0.322196</td>\n",
       "      <td>961.685131</td>\n",
       "      <td>1575.357083</td>\n",
       "      <td>2741.839979</td>\n",
       "      <td>4250.280513</td>\n",
       "      <td>0.306916</td>\n",
       "      <td>...</td>\n",
       "      <td>0.492236</td>\n",
       "      <td>0.578617</td>\n",
       "      <td>3187.467950</td>\n",
       "      <td>25328.033246</td>\n",
       "      <td>1963.342821</td>\n",
       "      <td>0.018107</td>\n",
       "      <td>0.306916</td>\n",
       "      <td>0.497054</td>\n",
       "      <td>0.0</td>\n",
       "      <td>NaN</td>\n",
       "    </tr>\n",
       "    <tr>\n",
       "      <th>min</th>\n",
       "      <td>3.000000</td>\n",
       "      <td>0.000000</td>\n",
       "      <td>0.000000</td>\n",
       "      <td>0.000000</td>\n",
       "      <td>0.000000</td>\n",
       "      <td>-1336.000000</td>\n",
       "      <td>-2614.000000</td>\n",
       "      <td>-8007.000000</td>\n",
       "      <td>-34143.000000</td>\n",
       "      <td>0.000000</td>\n",
       "      <td>...</td>\n",
       "      <td>1.000000</td>\n",
       "      <td>1.000000</td>\n",
       "      <td>-179.400000</td>\n",
       "      <td>0.000000</td>\n",
       "      <td>-449.360000</td>\n",
       "      <td>0.120000</td>\n",
       "      <td>0.000000</td>\n",
       "      <td>0.000000</td>\n",
       "      <td>1.0</td>\n",
       "      <td>NaN</td>\n",
       "    </tr>\n",
       "    <tr>\n",
       "      <th>25%</th>\n",
       "      <td>4381.000000</td>\n",
       "      <td>1.000000</td>\n",
       "      <td>1.000000</td>\n",
       "      <td>1.000000</td>\n",
       "      <td>1.000000</td>\n",
       "      <td>-127.500000</td>\n",
       "      <td>0.000000</td>\n",
       "      <td>-178.500000</td>\n",
       "      <td>0.000000</td>\n",
       "      <td>1.000000</td>\n",
       "      <td>...</td>\n",
       "      <td>3.000000</td>\n",
       "      <td>3.000000</td>\n",
       "      <td>180.695000</td>\n",
       "      <td>5127.212500</td>\n",
       "      <td>-112.340000</td>\n",
       "      <td>0.170000</td>\n",
       "      <td>1.000000</td>\n",
       "      <td>0.000000</td>\n",
       "      <td>1.0</td>\n",
       "      <td>NaN</td>\n",
       "    </tr>\n",
       "    <tr>\n",
       "      <th>50%</th>\n",
       "      <td>6459.000000</td>\n",
       "      <td>1.000000</td>\n",
       "      <td>1.000000</td>\n",
       "      <td>1.000000</td>\n",
       "      <td>1.000000</td>\n",
       "      <td>-22.000000</td>\n",
       "      <td>240.000000</td>\n",
       "      <td>0.000000</td>\n",
       "      <td>579.500000</td>\n",
       "      <td>1.000000</td>\n",
       "      <td>...</td>\n",
       "      <td>3.000000</td>\n",
       "      <td>4.000000</td>\n",
       "      <td>1427.805000</td>\n",
       "      <td>18155.275000</td>\n",
       "      <td>-112.340000</td>\n",
       "      <td>0.180000</td>\n",
       "      <td>1.000000</td>\n",
       "      <td>1.000000</td>\n",
       "      <td>1.0</td>\n",
       "      <td>NaN</td>\n",
       "    </tr>\n",
       "    <tr>\n",
       "      <th>75%</th>\n",
       "      <td>8216.500000</td>\n",
       "      <td>1.000000</td>\n",
       "      <td>1.000000</td>\n",
       "      <td>1.000000</td>\n",
       "      <td>1.000000</td>\n",
       "      <td>86.000000</td>\n",
       "      <td>953.500000</td>\n",
       "      <td>1763.000000</td>\n",
       "      <td>1992.150000</td>\n",
       "      <td>1.000000</td>\n",
       "      <td>...</td>\n",
       "      <td>3.000000</td>\n",
       "      <td>4.000000</td>\n",
       "      <td>4453.810000</td>\n",
       "      <td>31306.507500</td>\n",
       "      <td>726.415000</td>\n",
       "      <td>0.190000</td>\n",
       "      <td>1.000000</td>\n",
       "      <td>1.000000</td>\n",
       "      <td>1.0</td>\n",
       "      <td>NaN</td>\n",
       "    </tr>\n",
       "    <tr>\n",
       "      <th>max</th>\n",
       "      <td>10000.000000</td>\n",
       "      <td>1.000000</td>\n",
       "      <td>1.000000</td>\n",
       "      <td>1.000000</td>\n",
       "      <td>1.000000</td>\n",
       "      <td>30667.000000</td>\n",
       "      <td>39270.000000</td>\n",
       "      <td>36701.000000</td>\n",
       "      <td>68654.600000</td>\n",
       "      <td>1.000000</td>\n",
       "      <td>...</td>\n",
       "      <td>4.000000</td>\n",
       "      <td>4.000000</td>\n",
       "      <td>23866.480000</td>\n",
       "      <td>246512.525000</td>\n",
       "      <td>19281.985000</td>\n",
       "      <td>0.290000</td>\n",
       "      <td>1.000000</td>\n",
       "      <td>1.000000</td>\n",
       "      <td>1.0</td>\n",
       "      <td>NaN</td>\n",
       "    </tr>\n",
       "  </tbody>\n",
       "</table>\n",
       "<p>8 rows × 22 columns</p>\n",
       "</div>"
      ],
      "text/plain": [
       "        Customer_No      DEP_IND       CC_IND      MTG_IND      LOC_IND  \\\n",
       "count   3639.000000  3639.000000  3639.000000  3639.000000  3639.000000   \n",
       "mean    6041.305029     0.945864     0.839516     0.774114     0.882385   \n",
       "std     2651.802092     0.226316     0.367104     0.418222     0.322196   \n",
       "min        3.000000     0.000000     0.000000     0.000000     0.000000   \n",
       "25%     4381.000000     1.000000     1.000000     1.000000     1.000000   \n",
       "50%     6459.000000     1.000000     1.000000     1.000000     1.000000   \n",
       "75%     8216.500000     1.000000     1.000000     1.000000     1.000000   \n",
       "max    10000.000000     1.000000     1.000000     1.000000     1.000000   \n",
       "\n",
       "           DEP_PROF       CC_PROF      MTG_PROF      LOC_PROF  MOBILE_ACTIVE  \\\n",
       "count   3639.000000   3639.000000   3639.000000   3639.000000    3639.000000   \n",
       "mean      98.183017    741.637538    989.445727   1722.685202       0.894751   \n",
       "std      961.685131   1575.357083   2741.839979   4250.280513       0.306916   \n",
       "min    -1336.000000  -2614.000000  -8007.000000 -34143.000000       0.000000   \n",
       "25%     -127.500000      0.000000   -178.500000      0.000000       1.000000   \n",
       "50%      -22.000000    240.000000      0.000000    579.500000       1.000000   \n",
       "75%       86.000000    953.500000   1763.000000   1992.150000       1.000000   \n",
       "max    30667.000000  39270.000000  36701.000000  68654.600000       1.000000   \n",
       "\n",
       "       ...  CUST_ENGAGEMENT  CUST_AFFLUENCE  CLV_CREDITCARD   CLV_MORTGAGE  \\\n",
       "count  ...      3639.000000     3639.000000     3639.000000    3639.000000   \n",
       "mean   ...         2.804891        3.665567     2741.089999   23270.073042   \n",
       "std    ...         0.492236        0.578617     3187.467950   25328.033246   \n",
       "min    ...         1.000000        1.000000     -179.400000       0.000000   \n",
       "25%    ...         3.000000        3.000000      180.695000    5127.212500   \n",
       "50%    ...         3.000000        4.000000     1427.805000   18155.275000   \n",
       "75%    ...         3.000000        4.000000     4453.810000   31306.507500   \n",
       "max    ...         4.000000        4.000000    23866.480000  246512.525000   \n",
       "\n",
       "            CLV_LOC    ACQ_SCORE    EMAILABLE     MAILABLE  MILLENNIAL  \\\n",
       "count   3639.000000  3639.000000  3639.000000  3639.000000      3639.0   \n",
       "mean     755.540157     0.176559     0.894751     0.554823         1.0   \n",
       "std     1963.342821     0.018107     0.306916     0.497054         0.0   \n",
       "min     -449.360000     0.120000     0.000000     0.000000         1.0   \n",
       "25%     -112.340000     0.170000     1.000000     0.000000         1.0   \n",
       "50%     -112.340000     0.180000     1.000000     1.000000         1.0   \n",
       "75%      726.415000     0.190000     1.000000     1.000000         1.0   \n",
       "max    19281.985000     0.290000     1.000000     1.000000         1.0   \n",
       "\n",
       "       Unnamed: 27  \n",
       "count          0.0  \n",
       "mean           NaN  \n",
       "std            NaN  \n",
       "min            NaN  \n",
       "25%            NaN  \n",
       "50%            NaN  \n",
       "75%            NaN  \n",
       "max            NaN  \n",
       "\n",
       "[8 rows x 22 columns]"
      ]
     },
     "execution_count": 6,
     "metadata": {},
     "output_type": "execute_result"
    }
   ],
   "source": [
    "data1.describe()"
   ]
  },
  {
   "cell_type": "code",
   "execution_count": 7,
   "metadata": {},
   "outputs": [],
   "source": [
    "data2 = data[data['MILLENNIAL']==0]"
   ]
  },
  {
   "cell_type": "code",
   "execution_count": 9,
   "metadata": {},
   "outputs": [
    {
     "data": {
      "text/html": [
       "<div>\n",
       "<style scoped>\n",
       "    .dataframe tbody tr th:only-of-type {\n",
       "        vertical-align: middle;\n",
       "    }\n",
       "\n",
       "    .dataframe tbody tr th {\n",
       "        vertical-align: top;\n",
       "    }\n",
       "\n",
       "    .dataframe thead th {\n",
       "        text-align: right;\n",
       "    }\n",
       "</style>\n",
       "<table border=\"1\" class=\"dataframe\">\n",
       "  <thead>\n",
       "    <tr style=\"text-align: right;\">\n",
       "      <th></th>\n",
       "      <th>Customer_No</th>\n",
       "      <th>DEP_IND</th>\n",
       "      <th>CC_IND</th>\n",
       "      <th>MTG_IND</th>\n",
       "      <th>LOC_IND</th>\n",
       "      <th>DEP_PROF</th>\n",
       "      <th>CC_PROF</th>\n",
       "      <th>MTG_PROF</th>\n",
       "      <th>LOC_PROF</th>\n",
       "      <th>MOBILE_ACTIVE</th>\n",
       "      <th>...</th>\n",
       "      <th>CUST_ENGAGEMENT</th>\n",
       "      <th>CUST_AFFLUENCE</th>\n",
       "      <th>CLV_CREDITCARD</th>\n",
       "      <th>CLV_MORTGAGE</th>\n",
       "      <th>CLV_LOC</th>\n",
       "      <th>ACQ_SCORE</th>\n",
       "      <th>EMAILABLE</th>\n",
       "      <th>MAILABLE</th>\n",
       "      <th>MILLENNIAL</th>\n",
       "      <th>Unnamed: 27</th>\n",
       "    </tr>\n",
       "  </thead>\n",
       "  <tbody>\n",
       "    <tr>\n",
       "      <th>count</th>\n",
       "      <td>6361.000000</td>\n",
       "      <td>6361.000000</td>\n",
       "      <td>6361.000000</td>\n",
       "      <td>6361.000000</td>\n",
       "      <td>6361.000000</td>\n",
       "      <td>6361.000000</td>\n",
       "      <td>6361.000000</td>\n",
       "      <td>6361.000000</td>\n",
       "      <td>6361.000000</td>\n",
       "      <td>6361.000000</td>\n",
       "      <td>...</td>\n",
       "      <td>6361.000000</td>\n",
       "      <td>6361.000000</td>\n",
       "      <td>6361.000000</td>\n",
       "      <td>6361.000000</td>\n",
       "      <td>6361.000000</td>\n",
       "      <td>6361.000000</td>\n",
       "      <td>6361.000000</td>\n",
       "      <td>6361.000000</td>\n",
       "      <td>6361.0</td>\n",
       "      <td>0.0</td>\n",
       "    </tr>\n",
       "    <tr>\n",
       "      <th>mean</th>\n",
       "      <td>4405.076403</td>\n",
       "      <td>0.948436</td>\n",
       "      <td>0.774407</td>\n",
       "      <td>0.529948</td>\n",
       "      <td>0.821412</td>\n",
       "      <td>524.249803</td>\n",
       "      <td>700.139129</td>\n",
       "      <td>720.433894</td>\n",
       "      <td>2638.161649</td>\n",
       "      <td>0.784625</td>\n",
       "      <td>...</td>\n",
       "      <td>2.664361</td>\n",
       "      <td>3.575224</td>\n",
       "      <td>2194.312802</td>\n",
       "      <td>16622.600639</td>\n",
       "      <td>1515.887078</td>\n",
       "      <td>0.168810</td>\n",
       "      <td>0.784625</td>\n",
       "      <td>0.542682</td>\n",
       "      <td>0.0</td>\n",
       "      <td>NaN</td>\n",
       "    </tr>\n",
       "    <tr>\n",
       "      <th>std</th>\n",
       "      <td>2847.086122</td>\n",
       "      <td>0.221163</td>\n",
       "      <td>0.418005</td>\n",
       "      <td>0.499142</td>\n",
       "      <td>0.383037</td>\n",
       "      <td>2102.778557</td>\n",
       "      <td>1615.610652</td>\n",
       "      <td>2839.756790</td>\n",
       "      <td>5915.620517</td>\n",
       "      <td>0.411115</td>\n",
       "      <td>...</td>\n",
       "      <td>0.552640</td>\n",
       "      <td>0.674590</td>\n",
       "      <td>3086.016614</td>\n",
       "      <td>28897.153347</td>\n",
       "      <td>3195.714867</td>\n",
       "      <td>0.019691</td>\n",
       "      <td>0.411115</td>\n",
       "      <td>0.498214</td>\n",
       "      <td>0.0</td>\n",
       "      <td>NaN</td>\n",
       "    </tr>\n",
       "    <tr>\n",
       "      <th>min</th>\n",
       "      <td>1.000000</td>\n",
       "      <td>0.000000</td>\n",
       "      <td>0.000000</td>\n",
       "      <td>0.000000</td>\n",
       "      <td>0.000000</td>\n",
       "      <td>-1927.000000</td>\n",
       "      <td>-3271.000000</td>\n",
       "      <td>-16519.000000</td>\n",
       "      <td>-47358.450000</td>\n",
       "      <td>0.000000</td>\n",
       "      <td>...</td>\n",
       "      <td>1.000000</td>\n",
       "      <td>1.000000</td>\n",
       "      <td>-463.905000</td>\n",
       "      <td>0.000000</td>\n",
       "      <td>-786.380000</td>\n",
       "      <td>0.120000</td>\n",
       "      <td>0.000000</td>\n",
       "      <td>0.000000</td>\n",
       "      <td>0.0</td>\n",
       "      <td>NaN</td>\n",
       "    </tr>\n",
       "    <tr>\n",
       "      <th>25%</th>\n",
       "      <td>2017.000000</td>\n",
       "      <td>1.000000</td>\n",
       "      <td>1.000000</td>\n",
       "      <td>0.000000</td>\n",
       "      <td>1.000000</td>\n",
       "      <td>-117.000000</td>\n",
       "      <td>0.000000</td>\n",
       "      <td>0.000000</td>\n",
       "      <td>0.000000</td>\n",
       "      <td>1.000000</td>\n",
       "      <td>...</td>\n",
       "      <td>2.000000</td>\n",
       "      <td>3.000000</td>\n",
       "      <td>17.935000</td>\n",
       "      <td>0.000000</td>\n",
       "      <td>-112.340000</td>\n",
       "      <td>0.160000</td>\n",
       "      <td>1.000000</td>\n",
       "      <td>0.000000</td>\n",
       "      <td>0.0</td>\n",
       "      <td>NaN</td>\n",
       "    </tr>\n",
       "    <tr>\n",
       "      <th>50%</th>\n",
       "      <td>3948.000000</td>\n",
       "      <td>1.000000</td>\n",
       "      <td>1.000000</td>\n",
       "      <td>1.000000</td>\n",
       "      <td>1.000000</td>\n",
       "      <td>0.000000</td>\n",
       "      <td>75.000000</td>\n",
       "      <td>0.000000</td>\n",
       "      <td>590.900000</td>\n",
       "      <td>1.000000</td>\n",
       "      <td>...</td>\n",
       "      <td>3.000000</td>\n",
       "      <td>4.000000</td>\n",
       "      <td>727.970000</td>\n",
       "      <td>2512.015000</td>\n",
       "      <td>0.000000</td>\n",
       "      <td>0.170000</td>\n",
       "      <td>1.000000</td>\n",
       "      <td>1.000000</td>\n",
       "      <td>0.0</td>\n",
       "      <td>NaN</td>\n",
       "    </tr>\n",
       "    <tr>\n",
       "      <th>75%</th>\n",
       "      <td>6739.000000</td>\n",
       "      <td>1.000000</td>\n",
       "      <td>1.000000</td>\n",
       "      <td>1.000000</td>\n",
       "      <td>1.000000</td>\n",
       "      <td>238.000000</td>\n",
       "      <td>805.000000</td>\n",
       "      <td>549.000000</td>\n",
       "      <td>2679.950000</td>\n",
       "      <td>1.000000</td>\n",
       "      <td>...</td>\n",
       "      <td>3.000000</td>\n",
       "      <td>4.000000</td>\n",
       "      <td>3326.560000</td>\n",
       "      <td>20897.010000</td>\n",
       "      <td>1733.110000</td>\n",
       "      <td>0.180000</td>\n",
       "      <td>1.000000</td>\n",
       "      <td>1.000000</td>\n",
       "      <td>0.0</td>\n",
       "      <td>NaN</td>\n",
       "    </tr>\n",
       "    <tr>\n",
       "      <th>max</th>\n",
       "      <td>9997.000000</td>\n",
       "      <td>1.000000</td>\n",
       "      <td>1.000000</td>\n",
       "      <td>1.000000</td>\n",
       "      <td>1.000000</td>\n",
       "      <td>50273.000000</td>\n",
       "      <td>28985.000000</td>\n",
       "      <td>45279.000000</td>\n",
       "      <td>82108.500000</td>\n",
       "      <td>1.000000</td>\n",
       "      <td>...</td>\n",
       "      <td>4.000000</td>\n",
       "      <td>4.000000</td>\n",
       "      <td>26126.630000</td>\n",
       "      <td>376946.280000</td>\n",
       "      <td>34070.215000</td>\n",
       "      <td>0.280000</td>\n",
       "      <td>1.000000</td>\n",
       "      <td>1.000000</td>\n",
       "      <td>0.0</td>\n",
       "      <td>NaN</td>\n",
       "    </tr>\n",
       "  </tbody>\n",
       "</table>\n",
       "<p>8 rows × 22 columns</p>\n",
       "</div>"
      ],
      "text/plain": [
       "       Customer_No      DEP_IND       CC_IND      MTG_IND      LOC_IND  \\\n",
       "count  6361.000000  6361.000000  6361.000000  6361.000000  6361.000000   \n",
       "mean   4405.076403     0.948436     0.774407     0.529948     0.821412   \n",
       "std    2847.086122     0.221163     0.418005     0.499142     0.383037   \n",
       "min       1.000000     0.000000     0.000000     0.000000     0.000000   \n",
       "25%    2017.000000     1.000000     1.000000     0.000000     1.000000   \n",
       "50%    3948.000000     1.000000     1.000000     1.000000     1.000000   \n",
       "75%    6739.000000     1.000000     1.000000     1.000000     1.000000   \n",
       "max    9997.000000     1.000000     1.000000     1.000000     1.000000   \n",
       "\n",
       "           DEP_PROF       CC_PROF      MTG_PROF      LOC_PROF  MOBILE_ACTIVE  \\\n",
       "count   6361.000000   6361.000000   6361.000000   6361.000000    6361.000000   \n",
       "mean     524.249803    700.139129    720.433894   2638.161649       0.784625   \n",
       "std     2102.778557   1615.610652   2839.756790   5915.620517       0.411115   \n",
       "min    -1927.000000  -3271.000000 -16519.000000 -47358.450000       0.000000   \n",
       "25%     -117.000000      0.000000      0.000000      0.000000       1.000000   \n",
       "50%        0.000000     75.000000      0.000000    590.900000       1.000000   \n",
       "75%      238.000000    805.000000    549.000000   2679.950000       1.000000   \n",
       "max    50273.000000  28985.000000  45279.000000  82108.500000       1.000000   \n",
       "\n",
       "       ...  CUST_ENGAGEMENT  CUST_AFFLUENCE  CLV_CREDITCARD   CLV_MORTGAGE  \\\n",
       "count  ...      6361.000000     6361.000000     6361.000000    6361.000000   \n",
       "mean   ...         2.664361        3.575224     2194.312802   16622.600639   \n",
       "std    ...         0.552640        0.674590     3086.016614   28897.153347   \n",
       "min    ...         1.000000        1.000000     -463.905000       0.000000   \n",
       "25%    ...         2.000000        3.000000       17.935000       0.000000   \n",
       "50%    ...         3.000000        4.000000      727.970000    2512.015000   \n",
       "75%    ...         3.000000        4.000000     3326.560000   20897.010000   \n",
       "max    ...         4.000000        4.000000    26126.630000  376946.280000   \n",
       "\n",
       "            CLV_LOC    ACQ_SCORE    EMAILABLE     MAILABLE  MILLENNIAL  \\\n",
       "count   6361.000000  6361.000000  6361.000000  6361.000000      6361.0   \n",
       "mean    1515.887078     0.168810     0.784625     0.542682         0.0   \n",
       "std     3195.714867     0.019691     0.411115     0.498214         0.0   \n",
       "min     -786.380000     0.120000     0.000000     0.000000         0.0   \n",
       "25%     -112.340000     0.160000     1.000000     0.000000         0.0   \n",
       "50%        0.000000     0.170000     1.000000     1.000000         0.0   \n",
       "75%     1733.110000     0.180000     1.000000     1.000000         0.0   \n",
       "max    34070.215000     0.280000     1.000000     1.000000         0.0   \n",
       "\n",
       "       Unnamed: 27  \n",
       "count          0.0  \n",
       "mean           NaN  \n",
       "std            NaN  \n",
       "min            NaN  \n",
       "25%            NaN  \n",
       "50%            NaN  \n",
       "75%            NaN  \n",
       "max            NaN  \n",
       "\n",
       "[8 rows x 22 columns]"
      ]
     },
     "execution_count": 9,
     "metadata": {},
     "output_type": "execute_result"
    }
   ],
   "source": [
    "data2.describe()"
   ]
  },
  {
   "cell_type": "code",
   "execution_count": 11,
   "metadata": {},
   "outputs": [
    {
     "data": {
      "text/plain": [
       "<matplotlib.axes._subplots.AxesSubplot at 0x1ab9bfb9f60>"
      ]
     },
     "execution_count": 11,
     "metadata": {},
     "output_type": "execute_result"
    },
    {
     "data": {
      "image/png": "[encoded data removed]",
      "text/plain": [
       "<Figure size 432x288 with 1 Axes>"
      ]
     },
     "metadata": {
      "needs_background": "light"
     },
     "output_type": "display_data"
    }
   ],
   "source": [
    "sns.countplot(x=\"MOBILE_ACTIVE\",hue=\"MILLENNIAL\",data=data)"
   ]
  },
  {
   "cell_type": "code",
   "execution_count": 14,
   "metadata": {},
   "outputs": [
    {
     "data": {
      "text/plain": [
       "<matplotlib.axes._subplots.AxesSubplot at 0x1ab9c40a400>"
      ]
     },
     "execution_count": 14,
     "metadata": {},
     "output_type": "execute_result"
    },
    {
     "data": {
      "image/png": "[encoded data removed]",
      "text/plain": [
       "<Figure size 432x288 with 1 Axes>"
      ]
     },
     "metadata": {
      "needs_background": "light"
     },
     "output_type": "display_data"
    }
   ],
   "source": [
    "sns.countplot(x=\"DEP_IND\",hue=\"MILLENNIAL\",data=data)"
   ]
  },
  {
   "cell_type": "code",
   "execution_count": 15,
   "metadata": {},
   "outputs": [
    {
     "data": {
      "text/plain": [
       "<matplotlib.axes._subplots.AxesSubplot at 0x1ab9c479fd0>"
      ]
     },
     "execution_count": 15,
     "metadata": {},
     "output_type": "execute_result"
    },
    {
     "data": {
      "image/png": "[encoded data removed]",
      "text/plain": [
       "<Figure size 432x288 with 1 Axes>"
      ]
     },
     "metadata": {
      "needs_background": "light"
     },
     "output_type": "display_data"
    }
   ],
   "source": [
    "sns.countplot(x=\"CC_IND\",hue=\"MILLENNIAL\",data=data)"
   ]
  },
  {
   "cell_type": "code",
   "execution_count": 16,
   "metadata": {},
   "outputs": [
    {
     "data": {
      "text/plain": [
       "<matplotlib.axes._subplots.AxesSubplot at 0x1ab9c4d11d0>"
      ]
     },
     "execution_count": 16,
     "metadata": {},
     "output_type": "execute_result"
    },
    {
     "data": {
      "image/png": "[encoded data removed]",
      "text/plain": [
       "<Figure size 432x288 with 1 Axes>"
      ]
     },
     "metadata": {
      "needs_background": "light"
     },
     "output_type": "display_data"
    }
   ],
   "source": [
    "sns.countplot(x=\"MTG_IND\",hue=\"MILLENNIAL\",data=data)"
   ]
  },
  {
   "cell_type": "code",
   "execution_count": 17,
   "metadata": {},
   "outputs": [
    {
     "data": {
      "text/plain": [
       "<matplotlib.axes._subplots.AxesSubplot at 0x1ab9c5515f8>"
      ]
     },
     "execution_count": 17,
     "metadata": {},
     "output_type": "execute_result"
    },
    {
     "data": {
      "image/png": "[encoded data removed]",
      "text/plain": [
       "<Figure size 432x288 with 1 Axes>"
      ]
     },
     "metadata": {
      "needs_background": "light"
     },
     "output_type": "display_data"
    }
   ],
   "source": [
    "sns.countplot(x=\"LOC_IND\",hue=\"MILLENNIAL\",data=data)"
   ]
  },
  {
   "cell_type": "code",
   "execution_count": 18,
   "metadata": {},
   "outputs": [
    {
     "data": {
      "text/plain": [
       "<matplotlib.axes._subplots.AxesSubplot at 0x1ab9d583ba8>"
      ]
     },
     "execution_count": 18,
     "metadata": {},
     "output_type": "execute_result"
    },
    {
     "data": {
      "image/png": "[encoded data removed]",
      "text/plain": [
       "<Figure size 432x288 with 1 Axes>"
      ]
     },
     "metadata": {
      "needs_background": "light"
     },
     "output_type": "display_data"
    }
   ],
   "source": [
    "data.boxplot(column = 'DEP_PROF',by = 'MILLENNIAL') "
   ]
  },
  {
   "cell_type": "code",
   "execution_count": 19,
   "metadata": {},
   "outputs": [
    {
     "data": {
      "text/plain": [
       "<matplotlib.axes._subplots.AxesSubplot at 0x1ab9d5839e8>"
      ]
     },
     "execution_count": 19,
     "metadata": {},
     "output_type": "execute_result"
    },
    {
     "data": {
      "image/png": "[encoded data removed]",
      "text/plain": [
       "<Figure size 432x288 with 1 Axes>"
      ]
     },
     "metadata": {
      "needs_background": "light"
     },
     "output_type": "display_data"
    }
   ],
   "source": [
    "data.boxplot(column = 'CC_PROF',by = 'MILLENNIAL') "
   ]
  },
  {
   "cell_type": "code",
   "execution_count": 20,
   "metadata": {},
   "outputs": [
    {
     "data": {
      "text/plain": [
       "<matplotlib.axes._subplots.AxesSubplot at 0x1ab9d5f1c88>"
      ]
     },
     "execution_count": 20,
     "metadata": {},
     "output_type": "execute_result"
    },
    {
     "data": {
      "image/png": "[encoded data removed]",
      "text/plain": [
       "<Figure size 432x288 with 1 Axes>"
      ]
     },
     "metadata": {
      "needs_background": "light"
     },
     "output_type": "display_data"
    }
   ],
   "source": [
    "data.boxplot(column = 'MTG_PROF',by = 'MILLENNIAL') "
   ]
  },
  {
   "cell_type": "code",
   "execution_count": 21,
   "metadata": {},
   "outputs": [
    {
     "data": {
      "text/plain": [
       "<matplotlib.axes._subplots.AxesSubplot at 0x1ab9d679080>"
      ]
     },
     "execution_count": 21,
     "metadata": {},
     "output_type": "execute_result"
    },
    {
     "data": {
      "image/png": "[encoded data removed]",
      "text/plain": [
       "<Figure size 432x288 with 1 Axes>"
      ]
     },
     "metadata": {
      "needs_background": "light"
     },
     "output_type": "display_data"
    }
   ],
   "source": [
    "data.boxplot(column = 'LOC_PROF',by = 'MILLENNIAL') "
   ]
  },
  {
   "cell_type": "code",
   "execution_count": 22,
   "metadata": {},
   "outputs": [
    {
     "data": {
      "text/plain": [
       "<matplotlib.axes._subplots.AxesSubplot at 0x1ab9d773fd0>"
      ]
     },
     "execution_count": 22,
     "metadata": {},
     "output_type": "execute_result"
    },
    {
     "data": {
      "image/png": "[encoded data removed]",
      "text/plain": [
       "<Figure size 432x288 with 1 Axes>"
      ]
     },
     "metadata": {
      "needs_background": "light"
     },
     "output_type": "display_data"
    }
   ],
   "source": [
    "sns.countplot(x=\"AREA\",hue=\"MILLENNIAL\",data=data)"
   ]
  },
  {
   "cell_type": "code",
   "execution_count": 24,
   "metadata": {},
   "outputs": [
    {
     "data": {
      "text/plain": [
       "<matplotlib.axes._subplots.AxesSubplot at 0x1ab9d80a588>"
      ]
     },
     "execution_count": 24,
     "metadata": {},
     "output_type": "execute_result"
    },
    {
     "data": {
      "image/png": "[encoded data removed]",
      "text/plain": [
       "<Figure size 432x288 with 1 Axes>"
      ]
     },
     "metadata": {
      "needs_background": "light"
     },
     "output_type": "display_data"
    }
   ],
   "source": [
    "sns.countplot(x=\"PAYROLL_DEPOSIT\",hue=\"MILLENNIAL\",data=data)"
   ]
  },
  {
   "cell_type": "code",
   "execution_count": 25,
   "metadata": {},
   "outputs": [
    {
     "data": {
      "text/plain": [
       "<matplotlib.axes._subplots.AxesSubplot at 0x1ab9d8fb5f8>"
      ]
     },
     "execution_count": 25,
     "metadata": {},
     "output_type": "execute_result"
    },
    {
     "data": {
      "image/png": "[encoded data removed]",
      "text/plain": [
       "<Figure size 432x288 with 1 Axes>"
      ]
     },
     "metadata": {
      "needs_background": "light"
     },
     "output_type": "display_data"
    }
   ],
   "source": [
    "data.boxplot(column = 'CSAT',by = 'MILLENNIAL') "
   ]
  },
  {
   "cell_type": "code",
   "execution_count": 50,
   "metadata": {},
   "outputs": [],
   "source": [
    "import matplotlib.pyplot as plt"
   ]
  },
  {
   "cell_type": "code",
   "execution_count": 54,
   "metadata": {},
   "outputs": [
    {
     "data": {
      "image/png": "[encoded data removed]",
      "text/plain": [
       "<Figure size 936x648 with 1 Axes>"
      ]
     },
     "metadata": {
      "needs_background": "light"
     },
     "output_type": "display_data"
    }
   ],
   "source": [
    "plot = sns.countplot(x=\"CX_QUALITY\",hue=\"MILLENNIAL\",data=data)\n",
    "fig_size = plt.rcParams[\"figure.figsize\"]\n",
    "# Set figure width to 13 and height to 9\n",
    "fig_size[0] = 12\n",
    "fig_size[1] = 7\n",
    "plt.rcParams[\"figure.figsize\"] = fig_size"
   ]
  },
  {
   "cell_type": "code",
   "execution_count": 28,
   "metadata": {},
   "outputs": [
    {
     "data": {
      "text/plain": [
       "<matplotlib.axes._subplots.AxesSubplot at 0x1ab9dbd7550>"
      ]
     },
     "execution_count": 28,
     "metadata": {},
     "output_type": "execute_result"
    },
    {
     "data": {
      "image/png": "[encoded data removed]",
      "text/plain": [
       "<Figure size 432x288 with 1 Axes>"
      ]
     },
     "metadata": {
      "needs_background": "light"
     },
     "output_type": "display_data"
    }
   ],
   "source": [
    "data.boxplot(column = 'CUST_ENGAGEMENT',by = 'MILLENNIAL') "
   ]
  },
  {
   "cell_type": "code",
   "execution_count": 29,
   "metadata": {},
   "outputs": [
    {
     "data": {
      "text/plain": [
       "<matplotlib.axes._subplots.AxesSubplot at 0x1ab9dc49390>"
      ]
     },
     "execution_count": 29,
     "metadata": {},
     "output_type": "execute_result"
    },
    {
     "data": {
      "image/png": "[encoded data removed]",
      "text/plain": [
       "<Figure size 432x288 with 1 Axes>"
      ]
     },
     "metadata": {
      "needs_background": "light"
     },
     "output_type": "display_data"
    }
   ],
   "source": [
    "data.boxplot(column = 'CUST_AFFLUENCE',by = 'MILLENNIAL') "
   ]
  },
  {
   "cell_type": "code",
   "execution_count": 30,
   "metadata": {},
   "outputs": [
    {
     "data": {
      "text/plain": [
       "<matplotlib.axes._subplots.AxesSubplot at 0x1ab9dcb13c8>"
      ]
     },
     "execution_count": 30,
     "metadata": {},
     "output_type": "execute_result"
    },
    {
     "data": {
      "image/png": "[encoded data removed]",
      "text/plain": [
       "<Figure size 432x288 with 1 Axes>"
      ]
     },
     "metadata": {
      "needs_background": "light"
     },
     "output_type": "display_data"
    }
   ],
   "source": [
    "sns.countplot(x=\"SEGMENT\",hue=\"MILLENNIAL\",data=data)"
   ]
  },
  {
   "cell_type": "code",
   "execution_count": 31,
   "metadata": {},
   "outputs": [
    {
     "data": {
      "text/plain": [
       "<matplotlib.axes._subplots.AxesSubplot at 0x1ab9b14bf60>"
      ]
     },
     "execution_count": 31,
     "metadata": {},
     "output_type": "execute_result"
    },
    {
     "data": {
      "image/png": "[encoded data removed]",
      "text/plain": [
       "<Figure size 432x288 with 1 Axes>"
      ]
     },
     "metadata": {
      "needs_background": "light"
     },
     "output_type": "display_data"
    }
   ],
   "source": [
    "sns.countplot(x=\"EMAILABLE\",hue=\"MILLENNIAL\",data=data)"
   ]
  },
  {
   "cell_type": "code",
   "execution_count": 33,
   "metadata": {},
   "outputs": [
    {
     "data": {
      "text/plain": [
       "<matplotlib.axes._subplots.AxesSubplot at 0x1ab9dded4e0>"
      ]
     },
     "execution_count": 33,
     "metadata": {},
     "output_type": "execute_result"
    },
    {
     "data": {
      "image/png": "[encoded data removed]",
      "text/plain": [
       "<Figure size 432x288 with 1 Axes>"
      ]
     },
     "metadata": {
      "needs_background": "light"
     },
     "output_type": "display_data"
    }
   ],
   "source": [
    "sns.countplot(x=\"MAILABLE\",hue=\"MILLENNIAL\",data=data)"
   ]
  },
  {
   "cell_type": "code",
   "execution_count": 42,
   "metadata": {},
   "outputs": [],
   "source": [
    "data['CLV_MORTGAGE'] = data['CLV_MORTGAGE'].astype(int)"
   ]
  },
  {
   "cell_type": "code",
   "execution_count": 43,
   "metadata": {},
   "outputs": [
    {
     "data": {
      "text/plain": [
       "<matplotlib.axes._subplots.AxesSubplot at 0x1abaa9a10f0>"
      ]
     },
     "execution_count": 43,
     "metadata": {},
     "output_type": "execute_result"
    },
    {
     "data": {
      "image/png": "[encoded data removed]",
      "text/plain": [
       "<Figure size 432x288 with 1 Axes>"
      ]
     },
     "metadata": {
      "needs_background": "light"
     },
     "output_type": "display_data"
    }
   ],
   "source": [
    "data.boxplot(column = 'CLV_MORTGAGE',by = 'MILLENNIAL') "
   ]
  },
  {
   "cell_type": "code",
   "execution_count": 44,
   "metadata": {},
   "outputs": [],
   "source": [
    "data['CLV_CREDITCARD'] = data['CLV_CREDITCARD'].astype(int)"
   ]
  },
  {
   "cell_type": "code",
   "execution_count": 45,
   "metadata": {},
   "outputs": [
    {
     "data": {
      "text/plain": [
       "<matplotlib.axes._subplots.AxesSubplot at 0x1abaa9a1400>"
      ]
     },
     "execution_count": 45,
     "metadata": {},
     "output_type": "execute_result"
    },
    {
     "data": {
      "image/png": "[encoded data removed]",
      "text/plain": [
       "<Figure size 432x288 with 1 Axes>"
      ]
     },
     "metadata": {
      "needs_background": "light"
     },
     "output_type": "display_data"
    }
   ],
   "source": [
    "data.boxplot(column = 'CLV_CREDITCARD',by = 'MILLENNIAL') "
   ]
  },
  {
   "cell_type": "code",
   "execution_count": 46,
   "metadata": {},
   "outputs": [],
   "source": [
    "data['CLV_LOC'] = data['CLV_LOC'].astype(int)"
   ]
  },
  {
   "cell_type": "code",
   "execution_count": 47,
   "metadata": {},
   "outputs": [
    {
     "data": {
      "text/plain": [
       "<matplotlib.axes._subplots.AxesSubplot at 0x1abaab856a0>"
      ]
     },
     "execution_count": 47,
     "metadata": {},
     "output_type": "execute_result"
    },
    {
     "data": {
      "image/png": "[encoded data removed]",
      "text/plain": [
       "<Figure size 432x288 with 1 Axes>"
      ]
     },
     "metadata": {
      "needs_background": "light"
     },
     "output_type": "display_data"
    }
   ],
   "source": [
    "data.boxplot(column = 'CLV_LOC',by = 'MILLENNIAL') "
   ]
  },
  {
   "cell_type": "code",
   "execution_count": null,
   "metadata": {},
   "outputs": [],
   "source": []
  }
 ],
 "metadata": {
  "kernelspec": {
   "display_name": "Python 3",
   "language": "python",
   "name": "python3"
  },
  "language_info": {
   "codemirror_mode": {
    "name": "ipython",
    "version": 3
   },
   "file_extension": ".py",
   "mimetype": "text/x-python",
   "name": "python",
   "nbconvert_exporter": "python",
   "pygments_lexer": "ipython3",
   "version": "3.7.3"
  }
 },
 "nbformat": 4,
 "nbformat_minor": 2
}
